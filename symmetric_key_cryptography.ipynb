{
  "nbformat": 4,
  "nbformat_minor": 0,
  "metadata": {
    "colab": {
      "name": "symmetric-key cryptography.ipynb",
      "provenance": [],
      "collapsed_sections": []
    },
    "kernelspec": {
      "name": "python3",
      "display_name": "Python 3"
    },
    "accelerator": "GPU"
  },
  "cells": [
    {
      "cell_type": "code",
      "metadata": {
        "id": "4w0SUJ1eiLj5",
        "colab_type": "code",
        "colab": {}
      },
      "source": [
        "!pip install qiskit"
      ],
      "execution_count": null,
      "outputs": []
    },
    {
      "cell_type": "code",
      "metadata": {
        "id": "8J189N5bioGd",
        "colab_type": "code",
        "colab": {
          "base_uri": "https://localhost:8080/",
          "height": 190
        },
        "outputId": "f0653ba3-997f-4305-89bb-6ffd30b93137"
      },
      "source": [
        "import numpy as np\n",
        "from qiskit import(\n",
        "  QuantumCircuit,\n",
        "  execute,\n",
        "  Aer)\n",
        "from qiskit.visualization import plot_histogram\n",
        "\n",
        "# Use Aer's qasm_simulator\n",
        "simulator = Aer.get_backend('qasm_simulator')\n",
        "\n",
        "# Create a Quantum Circuit acting on the q register\n",
        "circuit = QuantumCircuit(2, 2)\n",
        "\n",
        "# Add a H gate on qubit 0\n",
        "circuit.h(0)\n",
        "\n",
        "# Add a CX (CNOT) gate on control qubit 0 and target qubit 1\n",
        "circuit.cx(0, 1)\n",
        "\n",
        "# Map the quantum measurement to the classical bits\n",
        "circuit.measure([0,1], [0,1])\n",
        "\n",
        "# Execute the circuit on the qasm simulator\n",
        "job = execute(circuit, simulator, shots=1000)\n",
        "\n",
        "# Grab results from the job\n",
        "result = job.result()\n",
        "\n",
        "# Returns counts\n",
        "counts = result.get_counts(circuit)\n",
        "print(\"\\nTotal count for 00 and 11 are:\",counts)\n",
        "\n",
        "# Draw the circuit\n",
        "circuit.draw()"
      ],
      "execution_count": null,
      "outputs": [
        {
          "output_type": "stream",
          "text": [
            "\n",
            "Total count for 00 and 11 are: {'11': 473, '00': 527}\n"
          ],
          "name": "stdout"
        },
        {
          "output_type": "execute_result",
          "data": {
            "text/html": [
              "<pre style=\"word-wrap: normal;white-space: pre;background: #fff0;line-height: 1.1;font-family: &quot;Courier New&quot;,Courier,monospace\">     ┌───┐     ┌─┐   \n",
              "q_0: ┤ H ├──■──┤M├───\n",
              "     └───┘┌─┴─┐└╥┘┌─┐\n",
              "q_1: ─────┤ X ├─╫─┤M├\n",
              "          └───┘ ║ └╥┘\n",
              "c_0: ═══════════╩══╬═\n",
              "                   ║ \n",
              "c_1: ══════════════╩═\n",
              "                     </pre>"
            ],
            "text/plain": [
              "     ┌───┐     ┌─┐   \n",
              "q_0: ┤ H ├──■──┤M├───\n",
              "     └───┘┌─┴─┐└╥┘┌─┐\n",
              "q_1: ─────┤ X ├─╫─┤M├\n",
              "          └───┘ ║ └╥┘\n",
              "c_0: ═══════════╩══╬═\n",
              "                   ║ \n",
              "c_1: ══════════════╩═\n",
              "                     "
            ]
          },
          "metadata": {
            "tags": []
          },
          "execution_count": 2
        }
      ]
    },
    {
      "cell_type": "code",
      "metadata": {
        "id": "w-hR14RVioR8",
        "colab_type": "code",
        "colab": {
          "base_uri": "https://localhost:8080/",
          "height": 331
        },
        "outputId": "90bd912b-14be-485f-e660-3f72a5861eee"
      },
      "source": [
        "plot_histogram(counts)\n"
      ],
      "execution_count": null,
      "outputs": [
        {
          "output_type": "execute_result",
          "data": {
            "image/png": "[encoded data removed]",
            "text/plain": [
              "<Figure size 504x360 with 1 Axes>"
            ]
          },
          "metadata": {
            "tags": []
          },
          "execution_count": 3
        }
      ]
    }
  ]
}